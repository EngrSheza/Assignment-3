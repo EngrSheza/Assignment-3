{
 "cells": [
  {
   "cell_type": "code",
   "execution_count": 1,
   "id": "1423d011",
   "metadata": {},
   "outputs": [
    {
     "data": {
      "text/plain": [
       "'Sheza'"
      ]
     },
     "execution_count": 1,
     "metadata": {},
     "output_type": "execute_result"
    }
   ],
   "source": [
    "# list     0             1        2           3\n",
    "data = [\"Sheza\",\"Shams-ul-Islam\",31,['BE', 'Cache2', 'AI' ]]\n",
    "\n",
    "data[0]"
   ]
  },
  {
   "cell_type": "code",
   "execution_count": 2,
   "id": "5133b796",
   "metadata": {},
   "outputs": [
    {
     "data": {
      "text/plain": [
       "['BE', 'Cache2', 'AI']"
      ]
     },
     "execution_count": 2,
     "metadata": {},
     "output_type": "execute_result"
    }
   ],
   "source": [
    "data[3]"
   ]
  },
  {
   "cell_type": "code",
   "execution_count": 5,
   "id": "21d4a161",
   "metadata": {},
   "outputs": [],
   "source": [
    "data[0] = \"Hamnah\""
   ]
  },
  {
   "cell_type": "code",
   "execution_count": 6,
   "id": "a8301fee",
   "metadata": {
    "scrolled": true
   },
   "outputs": [
    {
     "data": {
      "text/plain": [
       "['Hamnah', 'Shams-ul-Islam', 31, ['BE', 'Cache2', 'AI']]"
      ]
     },
     "execution_count": 6,
     "metadata": {},
     "output_type": "execute_result"
    }
   ],
   "source": [
    "data\n"
   ]
  },
  {
   "cell_type": "code",
   "execution_count": 19,
   "id": "feefb910",
   "metadata": {},
   "outputs": [
    {
     "name": "stdout",
     "output_type": "stream",
     "text": [
      "{'Name': 'Sheza Shams', 'Fathers_Name': 'Shasm-ul-Islam', 'Age': 30, 'Education': 'BE,Cache 2,AI, KARAS g12C', '0': 'Pakistan'}\n"
     ]
    }
   ],
   "source": [
    "data = {\n",
    "    'Name' : 'Sheza Shams',\n",
    "    'Fathers_Name' : 'Shasm-ul-Islam',\n",
    "    'Age' : 30 ,\n",
    "    'Education' : 'BE,Cache 2,AI, KARAS g12C',\n",
    "    '0' : 'Pakistan' \n",
    "}\n",
    "\n",
    "print(data)"
   ]
  },
  {
   "cell_type": "markdown",
   "id": "eb80a9ad",
   "metadata": {},
   "source": [
    "# how to access value from dictionary"
   ]
  },
  {
   "cell_type": "code",
   "execution_count": 32,
   "id": "f044458c",
   "metadata": {},
   "outputs": [
    {
     "name": "stdout",
     "output_type": "stream",
     "text": [
      "Sheza Shams\n",
      "Shams-ul-Islam\n",
      "Pakistan\n",
      "<class 'dict'>\n"
     ]
    }
   ],
   "source": [
    "data = {\n",
    "    'Name' : 'Sheza Shams',\n",
    "    'Fathers_Name' : 'Shams-ul-Islam',\n",
    "    'Age' : 30 ,\n",
    "    'Education' : 'BE,Cache 2,AI, KARAS g12C',\n",
    "    '0' : 'Pakistan' \n",
    "}\n",
    "\n",
    "print(data['Name'])\n",
    "print(data['Fathers_Name'])\n",
    "print(data['0']) #---------> this zero refers to key not index\n",
    "type(data)\n",
    "print(type(data))"
   ]
  },
  {
   "cell_type": "code",
   "execution_count": 34,
   "id": "4c3a57cd",
   "metadata": {},
   "outputs": [
    {
     "data": {
      "text/html": [
       "<div>\n",
       "<style scoped>\n",
       "    .dataframe tbody tr th:only-of-type {\n",
       "        vertical-align: middle;\n",
       "    }\n",
       "\n",
       "    .dataframe tbody tr th {\n",
       "        vertical-align: top;\n",
       "    }\n",
       "\n",
       "    .dataframe thead th {\n",
       "        text-align: right;\n",
       "    }\n",
       "</style>\n",
       "<table border=\"1\" class=\"dataframe\">\n",
       "  <thead>\n",
       "    <tr style=\"text-align: right;\">\n",
       "      <th></th>\n",
       "      <th>name</th>\n",
       "      <th>fname</th>\n",
       "      <th>Age</th>\n",
       "    </tr>\n",
       "  </thead>\n",
       "  <tbody>\n",
       "    <tr>\n",
       "      <th>0</th>\n",
       "      <td>Sheza</td>\n",
       "      <td>Shams</td>\n",
       "      <td>31</td>\n",
       "    </tr>\n",
       "    <tr>\n",
       "      <th>1</th>\n",
       "      <td>Hamnah</td>\n",
       "      <td>Arsalan</td>\n",
       "      <td>5</td>\n",
       "    </tr>\n",
       "    <tr>\n",
       "      <th>2</th>\n",
       "      <td>Ayaan</td>\n",
       "      <td>Arsalan</td>\n",
       "      <td>3</td>\n",
       "    </tr>\n",
       "  </tbody>\n",
       "</table>\n",
       "</div>"
      ],
      "text/plain": [
       "     name    fname  Age\n",
       "0   Sheza    Shams   31\n",
       "1  Hamnah  Arsalan    5\n",
       "2   Ayaan  Arsalan    3"
      ]
     },
     "execution_count": 34,
     "metadata": {},
     "output_type": "execute_result"
    }
   ],
   "source": [
    "data = {\n",
    "    'name' : ['Sheza', 'Hamnah', 'Ayaan'] ,\n",
    "    'fname' : ['Shams', 'Arsalan', 'Arsalan'] ,\n",
    "    'Age' : [31,5,3]\n",
    "}\n",
    "\n",
    "import pandas as pd\n",
    "df = pd.DataFrame(data)\n",
    "df"
   ]
  },
  {
   "cell_type": "markdown",
   "id": "0f8f9c89",
   "metadata": {},
   "source": [
    "#how we can create list"
   ]
  },
  {
   "cell_type": "code",
   "execution_count": 41,
   "id": "2479ad54",
   "metadata": {},
   "outputs": [
    {
     "ename": "KeyError",
     "evalue": "'Name'",
     "output_type": "error",
     "traceback": [
      "\u001b[1;31m---------------------------------------------------------------------------\u001b[0m",
      "\u001b[1;31mKeyError\u001b[0m                                  Traceback (most recent call last)",
      "\u001b[1;32m~\\AppData\\Local\\Temp\\ipykernel_17224\\1480001142.py\u001b[0m in \u001b[0;36m<module>\u001b[1;34m\u001b[0m\n\u001b[0;32m      1\u001b[0m \u001b[0mdic1\u001b[0m \u001b[1;33m=\u001b[0m \u001b[1;33m{\u001b[0m\u001b[1;33m}\u001b[0m\u001b[1;33m\u001b[0m\u001b[1;33m\u001b[0m\u001b[0m\n\u001b[0;32m      2\u001b[0m \u001b[1;33m\u001b[0m\u001b[0m\n\u001b[1;32m----> 3\u001b[1;33m \u001b[0mdic1\u001b[0m\u001b[1;33m[\u001b[0m\u001b[1;34m'Name'\u001b[0m\u001b[1;33m]\u001b[0m\u001b[1;33m\u001b[0m\u001b[1;33m\u001b[0m\u001b[0m\n\u001b[0m\u001b[0;32m      4\u001b[0m \u001b[0mprint\u001b[0m\u001b[1;33m(\u001b[0m\u001b[0mdict1\u001b[0m\u001b[1;33m)\u001b[0m\u001b[1;33m\u001b[0m\u001b[1;33m\u001b[0m\u001b[0m\n\u001b[0;32m      5\u001b[0m \u001b[1;33m\u001b[0m\u001b[0m\n",
      "\u001b[1;31mKeyError\u001b[0m: 'Name'"
     ]
    }
   ],
   "source": [
    "dic1 = {}\n",
    "\n",
    "dic1['Name']\n",
    "print(dict1)"
   ]
  },
  {
   "cell_type": "code",
   "execution_count": 40,
   "id": "c83977c5",
   "metadata": {},
   "outputs": [
    {
     "name": "stdout",
     "output_type": "stream",
     "text": [
      "{'Name': 'Sheza Shams'}\n"
     ]
    }
   ],
   "source": [
    "dic1 = {}\n",
    "dic1['Name'] = 'Sheza Shams' \n",
    "print(dic1)"
   ]
  },
  {
   "cell_type": "code",
   "execution_count": 45,
   "id": "f8f5d030",
   "metadata": {},
   "outputs": [
    {
     "name": "stdout",
     "output_type": "stream",
     "text": [
      "{'Name': 'Sheza Shams', 'Age': 31, 'Course': 'Python'}\n"
     ]
    }
   ],
   "source": [
    "dic1 = {}\n",
    "dic1['Name'] = 'Sheza Shams' \n",
    "dic1['Age'] = 31\n",
    "dic1['Course'] = 'Python'\n",
    "print(dic1)"
   ]
  },
  {
   "cell_type": "code",
   "execution_count": 46,
   "id": "181a7598",
   "metadata": {},
   "outputs": [],
   "source": [
    "data = {}"
   ]
  },
  {
   "cell_type": "code",
   "execution_count": 59,
   "id": "1a734a4d",
   "metadata": {
    "scrolled": true
   },
   "outputs": [
    {
     "name": "stdout",
     "output_type": "stream",
     "text": [
      "{'Name': 'Sheza Shams Python Student', 'Fathers_Name': 'Shams-ul-Islam', 'Age': 31, 'Fathers Name': 'Shams-ul-Islam', 'FName': 'Shams-ul-Islam'}\n"
     ]
    }
   ],
   "source": [
    "[\"Name\"] = \"Sheza Shams\"\n",
    "data[\"FName\"] = \"Shams-ul-Islam\"\n",
    "data[\"Age\"] = 31\n",
    "data[\"Name\"] = data[\"Name\"] + \" \" + \"Python Student\"\n",
    "print(data)"
   ]
  },
  {
   "cell_type": "code",
   "execution_count": 61,
   "id": "32b7ff0b",
   "metadata": {},
   "outputs": [
    {
     "name": "stdout",
     "output_type": "stream",
     "text": [
      "{'Name': 'Sheza Shams Python Student', 'FName': 'Shams-ul-Islam', 'Age': 31}\n"
     ]
    }
   ],
   "source": [
    "data = {}\n",
    "data[\"Name\"] = \"Sheza Shams\"\n",
    "data[\"FName\"] = \"Shams-ul-Islam\"\n",
    "data[\"Age\"] = 31\n",
    "data[\"Name\"] = data[\"Name\"] + \" \" + \"Python Student\"\n",
    "print(data)"
   ]
  },
  {
   "cell_type": "code",
   "execution_count": 62,
   "id": "1794dd69",
   "metadata": {},
   "outputs": [],
   "source": [
    "data.clear()"
   ]
  },
  {
   "cell_type": "code",
   "execution_count": 63,
   "id": "b16b4769",
   "metadata": {},
   "outputs": [
    {
     "data": {
      "text/plain": [
       "{}"
      ]
     },
     "execution_count": 63,
     "metadata": {},
     "output_type": "execute_result"
    }
   ],
   "source": [
    "data #clear all key values"
   ]
  },
  {
   "cell_type": "code",
   "execution_count": 64,
   "id": "0067ed2b",
   "metadata": {
    "scrolled": true
   },
   "outputs": [
    {
     "ename": "SyntaxError",
     "evalue": "cannot delete function call (2634344746.py, line 7)",
     "output_type": "error",
     "traceback": [
      "\u001b[1;36m  File \u001b[1;32m\"C:\\Users\\ARSALAN\\AppData\\Local\\Temp\\ipykernel_17224\\2634344746.py\"\u001b[1;36m, line \u001b[1;32m7\u001b[0m\n\u001b[1;33m    del data()\u001b[0m\n\u001b[1;37m        ^\u001b[0m\n\u001b[1;31mSyntaxError\u001b[0m\u001b[1;31m:\u001b[0m cannot delete function call\n"
     ]
    }
   ],
   "source": [
    "data = {}\n",
    "data[\"Name\"] = \"Sheza Shams\"\n",
    "data[\"FName\"] = \"Shams-ul-Islam\"\n",
    "data[\"Age\"] = 31\n",
    "data[\"Name\"] = data[\"Name\"] + \" \" + \"Python Student\"\n",
    "print(data)\n",
    "del data()\n",
    "print(data) # error is shwoing because del function permenantly deletes data thats why if something is deleted how can it print"
   ]
  },
  {
   "cell_type": "code",
   "execution_count": 75,
   "id": "96ff9325",
   "metadata": {},
   "outputs": [],
   "source": [
    "data = {\n",
    "    'Name' : 'Sheza Shams',\n",
    "    'Fname' : 'Shams-ul-Islam',\n",
    "    'Age' : 31\n",
    "    \n",
    "}\n",
    "data\n",
    "data1 = data # shallow copy\n",
    "data2 = data\n",
    "data3 = data"
   ]
  },
  {
   "cell_type": "code",
   "execution_count": 76,
   "id": "35fb7362",
   "metadata": {},
   "outputs": [
    {
     "name": "stdout",
     "output_type": "stream",
     "text": [
      "{'Name': 'Sheza Shams', 'Fname': 'Shams-ul-Islam', 'Age': 31}\n",
      "{'Name': 'Sheza Shams', 'Fname': 'Shams-ul-Islam', 'Age': 31}\n",
      "{'Name': 'Sheza Shams', 'Fname': 'Shams-ul-Islam', 'Age': 31}\n"
     ]
    }
   ],
   "source": [
    "print(data1)\n",
    "print(data2)\n",
    "print(data3)"
   ]
  },
  {
   "cell_type": "code",
   "execution_count": 78,
   "id": "7a54d2f4",
   "metadata": {},
   "outputs": [
    {
     "name": "stdout",
     "output_type": "stream",
     "text": [
      "{'Name': 'hamnah', 'Fname': 'Shams-ul-Islam', 'Age': 31}\n",
      "{'Name': 'hamnah', 'Fname': 'Shams-ul-Islam', 'Age': 31}\n",
      "{'Name': 'hamnah', 'Fname': 'Shams-ul-Islam', 'Age': 31}\n"
     ]
    }
   ],
   "source": [
    "data3['Name'] = \"hamnah\"\n",
    "\n",
    "print(data1)\n",
    "print(data2)\n",
    "print(data3)\n"
   ]
  },
  {
   "cell_type": "code",
   "execution_count": 79,
   "id": "98902374",
   "metadata": {},
   "outputs": [
    {
     "name": "stdout",
     "output_type": "stream",
     "text": [
      "{'Name': 'Sheza Shams', 'Fname': 'Shams-ul-Islam', 'Age': 31}\n",
      "{'Name': 'Sheza Shams', 'Fname': 'Shams-ul-Islam', 'Age': 31}\n",
      "{'Name': 'hamnah', 'Fname': 'Shams-ul-Islam', 'Age': 31}\n"
     ]
    }
   ],
   "source": [
    "data = {\n",
    "    'Name' : 'Sheza Shams',\n",
    "    'Fname' : 'Shams-ul-Islam',\n",
    "    'Age' : 31\n",
    "    \n",
    "}\n",
    "data\n",
    "data1 = data.copy()# deep copy\n",
    "data2 = data.copy()\n",
    "data3 = data.copy()\n",
    "\n",
    "data3['Name'] = \"hamnah\"\n",
    "\n",
    "print(data1)\n",
    "print(data2)\n",
    "print(data3)\n"
   ]
  },
  {
   "cell_type": "markdown",
   "id": "fc4137e9",
   "metadata": {},
   "source": [
    "#create dictionary with list of keys"
   ]
  },
  {
   "cell_type": "code",
   "execution_count": 80,
   "id": "2e74da69",
   "metadata": {},
   "outputs": [
    {
     "data": {
      "text/plain": [
       "{'name': None,\n",
       " 'fname': None,\n",
       " 'course': None,\n",
       " 'education': None,\n",
       " 'age': None,\n",
       " 'contact': None,\n",
       " 'timing': None}"
      ]
     },
     "execution_count": 80,
     "metadata": {},
     "output_type": "execute_result"
    }
   ],
   "source": [
    "keys = ['name','fname','course','education','age','contact','timing']\n",
    "data = dict.fromkeys(keys)\n",
    "data"
   ]
  },
  {
   "cell_type": "code",
   "execution_count": 84,
   "id": "48f74882",
   "metadata": {},
   "outputs": [
    {
     "data": {
      "text/plain": [
       "{'name': 'Not Available',\n",
       " 'fname': 'Not Available',\n",
       " 'course': 'Not Available',\n",
       " 'education': 'Not Available',\n",
       " 'age': 'Not Available',\n",
       " 'contact': 'Not Available',\n",
       " 'timing': 'Not Available'}"
      ]
     },
     "execution_count": 84,
     "metadata": {},
     "output_type": "execute_result"
    }
   ],
   "source": [
    "data = dict.fromkeys(keys,'Not Available')\n",
    "data"
   ]
  },
  {
   "cell_type": "code",
   "execution_count": 87,
   "id": "05124d38",
   "metadata": {},
   "outputs": [
    {
     "ename": "KeyError",
     "evalue": "'cnic'",
     "output_type": "error",
     "traceback": [
      "\u001b[1;31m---------------------------------------------------------------------------\u001b[0m",
      "\u001b[1;31mKeyError\u001b[0m                                  Traceback (most recent call last)",
      "\u001b[1;32m~\\AppData\\Local\\Temp\\ipykernel_17224\\1817473232.py\u001b[0m in \u001b[0;36m<module>\u001b[1;34m\u001b[0m\n\u001b[0;32m      6\u001b[0m     \u001b[1;34m'0'\u001b[0m \u001b[1;33m:\u001b[0m \u001b[1;34m'Pakistan'\u001b[0m\u001b[1;33m\u001b[0m\u001b[1;33m\u001b[0m\u001b[0m\n\u001b[0;32m      7\u001b[0m }\n\u001b[1;32m----> 8\u001b[1;33m \u001b[0mprint\u001b[0m\u001b[1;33m(\u001b[0m\u001b[0mdata\u001b[0m\u001b[1;33m[\u001b[0m\u001b[1;34m'cnic'\u001b[0m\u001b[1;33m]\u001b[0m\u001b[1;33m)\u001b[0m\u001b[1;33m\u001b[0m\u001b[1;33m\u001b[0m\u001b[0m\n\u001b[0m\u001b[0;32m      9\u001b[0m \u001b[0mprint\u001b[0m\u001b[1;33m(\u001b[0m\u001b[1;34m'cnic'\u001b[0m\u001b[1;33m)\u001b[0m\u001b[1;33m\u001b[0m\u001b[1;33m\u001b[0m\u001b[0m\n\u001b[0;32m     10\u001b[0m \u001b[0mprint\u001b[0m\u001b[1;33m(\u001b[0m\u001b[1;34m'Hello World'\u001b[0m\u001b[1;33m)\u001b[0m\u001b[1;33m\u001b[0m\u001b[1;33m\u001b[0m\u001b[0m\n",
      "\u001b[1;31mKeyError\u001b[0m: 'cnic'"
     ]
    }
   ],
   "source": [
    "data = {\n",
    "    'Name' : 'Sheza Shams',\n",
    "    'Fathers_Name' : 'Shams-ul-Islam',\n",
    "    'Age' : 30 ,\n",
    "    'Education' : 'BE,Cache 2,AI, KARAS g12C',\n",
    "    '0' : 'Pakistan' \n",
    "}\n",
    "print(data['cnic']) # overhere key error thats why not printing others thats the problem\n",
    "print('cnic')\n",
    "print('Hello World')"
   ]
  },
  {
   "cell_type": "code",
   "execution_count": 92,
   "id": "b04ee53d",
   "metadata": {},
   "outputs": [
    {
     "name": "stdout",
     "output_type": "stream",
     "text": [
      "Sheza Shams\n",
      "NOT available\n"
     ]
    }
   ],
   "source": [
    "data = {\n",
    "    'Name' : 'Sheza Shams',\n",
    "    'Fathers_Name' : 'Shams-ul-Islam',\n",
    "    'Age' : 30 ,\n",
    "    'Education' : 'BE,Cache 2,AI, KARAS g12C',\n",
    "    '0' : 'Pakistan' \n",
    "}\n",
    "print(data.get('Name'))\n",
    "print(data.get('CNIC','NOT available'))"
   ]
  },
  {
   "cell_type": "code",
   "execution_count": null,
   "id": "d83d21c5",
   "metadata": {},
   "outputs": [],
   "source": [
    "# item, key, value"
   ]
  },
  {
   "cell_type": "code",
   "execution_count": 94,
   "id": "92357850",
   "metadata": {},
   "outputs": [
    {
     "data": {
      "text/plain": [
       "dict_items([('Name', 'Sheza Shams'), ('Fathers_Name', 'Shams-ul-Islam'), ('Age', 30), ('Education', 'BE,Cache 2,AI, KARAS g12C'), ('0', 'Pakistan')])"
      ]
     },
     "execution_count": 94,
     "metadata": {},
     "output_type": "execute_result"
    }
   ],
   "source": [
    "data = {\n",
    "    'Name' : 'Sheza Shams',\n",
    "    'Fathers_Name' : 'Shams-ul-Islam',\n",
    "    'Age' : 30 ,\n",
    "    'Education' : 'BE,Cache 2,AI, KARAS g12C',\n",
    "    '0' : 'Pakistan' \n",
    "}\n",
    "\n",
    "data.items() #transform every key value into tuple"
   ]
  },
  {
   "cell_type": "code",
   "execution_count": 95,
   "id": "a9ffb1cb",
   "metadata": {},
   "outputs": [
    {
     "data": {
      "text/plain": [
       "dict_keys(['Name', 'Fathers_Name', 'Age', 'Education', '0'])"
      ]
     },
     "execution_count": 95,
     "metadata": {},
     "output_type": "execute_result"
    }
   ],
   "source": [
    "data.keys()"
   ]
  },
  {
   "cell_type": "code",
   "execution_count": 96,
   "id": "f8c0ccd1",
   "metadata": {},
   "outputs": [
    {
     "data": {
      "text/plain": [
       "dict_values(['Sheza Shams', 'Shams-ul-Islam', 30, 'BE,Cache 2,AI, KARAS g12C', 'Pakistan'])"
      ]
     },
     "execution_count": 96,
     "metadata": {},
     "output_type": "execute_result"
    }
   ],
   "source": [
    "data.values()"
   ]
  },
  {
   "cell_type": "code",
   "execution_count": 97,
   "id": "b859a5ae",
   "metadata": {},
   "outputs": [
    {
     "data": {
      "text/plain": [
       "['ABC', 'XYZ', 123]"
      ]
     },
     "execution_count": 97,
     "metadata": {},
     "output_type": "execute_result"
    }
   ],
   "source": [
    "l1 = ['ABC','XYZ', 123]\n",
    "l1"
   ]
  },
  {
   "cell_type": "code",
   "execution_count": 100,
   "id": "2e3fa764",
   "metadata": {},
   "outputs": [
    {
     "data": {
      "text/plain": [
       "False"
      ]
     },
     "execution_count": 100,
     "metadata": {},
     "output_type": "execute_result"
    }
   ],
   "source": [
    "'hjhjh'in l1"
   ]
  },
  {
   "cell_type": "code",
   "execution_count": 102,
   "id": "9df23681",
   "metadata": {},
   "outputs": [
    {
     "name": "stdout",
     "output_type": "stream",
     "text": [
      "ABC\n",
      "XYZ\n",
      "123\n"
     ]
    }
   ],
   "source": [
    "for abc in l1:\n",
    "    print(abc)"
   ]
  },
  {
   "cell_type": "code",
   "execution_count": 103,
   "id": "99a3d241",
   "metadata": {},
   "outputs": [
    {
     "name": "stdout",
     "output_type": "stream",
     "text": [
      "ABC\n",
      "XYZ\n",
      "123\n"
     ]
    }
   ],
   "source": [
    "for x in l1:\n",
    "    print(x) # overhere x is variable defined by me, local variable scope"
   ]
  },
  {
   "cell_type": "code",
   "execution_count": 104,
   "id": "d06d8e05",
   "metadata": {},
   "outputs": [
    {
     "name": "stdout",
     "output_type": "stream",
     "text": [
      "Name\n",
      "Fathers_Name\n",
      "Age\n",
      "Education\n",
      "0\n"
     ]
    }
   ],
   "source": [
    "data = {\n",
    "    'Name' : 'Sheza Shams',\n",
    "    'Fathers_Name' : 'Shams-ul-Islam',\n",
    "    'Age' : 30 ,\n",
    "    'Education' : 'BE,Cache 2,AI, KARAS g12C',\n",
    "    '0' : 'Pakistan' \n",
    "}\n",
    "\n",
    "for abc in data:\n",
    "    print(abc) # only print keys"
   ]
  },
  {
   "cell_type": "code",
   "execution_count": 105,
   "id": "d67085e6",
   "metadata": {},
   "outputs": [
    {
     "name": "stdout",
     "output_type": "stream",
     "text": [
      "('Name', 'Sheza Shams')\n",
      "('Fathers_Name', 'Shams-ul-Islam')\n",
      "('Age', 30)\n",
      "('Education', 'BE,Cache 2,AI, KARAS g12C')\n",
      "('0', 'Pakistan')\n"
     ]
    }
   ],
   "source": [
    "data = {\n",
    "    'Name' : 'Sheza Shams',\n",
    "    'Fathers_Name' : 'Shams-ul-Islam',\n",
    "    'Age' : 30 ,\n",
    "    'Education' : 'BE,Cache 2,AI, KARAS g12C',\n",
    "    '0' : 'Pakistan' \n",
    "}\n",
    "\n",
    "for abc in data.items(): # now both keys and values are coming\n",
    "    print(abc) "
   ]
  },
  {
   "cell_type": "code",
   "execution_count": 106,
   "id": "52cc099e",
   "metadata": {},
   "outputs": [
    {
     "name": "stdout",
     "output_type": "stream",
     "text": [
      "100\n",
      "500\n"
     ]
    }
   ],
   "source": [
    "a1 , a2 = (100, 500)\n",
    "print(a1)\n",
    "print(a2) # unzip process"
   ]
  },
  {
   "cell_type": "code",
   "execution_count": 111,
   "id": "777f18b0",
   "metadata": {},
   "outputs": [
    {
     "name": "stdout",
     "output_type": "stream",
     "text": [
      "keys is: Name values is: Sheza Shams\n",
      "keys is: Fathers_Name values is: Shams-ul-Islam\n",
      "keys is: Age values is: 30\n",
      "keys is: Education values is: BE,Cache 2,AI, KARAS g12C\n",
      "keys is: 0 values is: Pakistan\n"
     ]
    }
   ],
   "source": [
    "data = {\n",
    "    'Name' : 'Sheza Shams',\n",
    "    'Fathers_Name' : 'Shams-ul-Islam',\n",
    "    'Age' : 30 ,\n",
    "    'Education' : 'BE,Cache 2,AI, KARAS g12C',\n",
    "    '0' : 'Pakistan' \n",
    "}\n",
    "\n",
    "for k,v in data.items():\n",
    "    print('keys is:',k,'values is:',v) "
   ]
  },
  {
   "cell_type": "code",
   "execution_count": 112,
   "id": "9a8e82ea",
   "metadata": {},
   "outputs": [
    {
     "name": "stdout",
     "output_type": "stream",
     "text": [
      "Name Sheza Shams\n",
      "Fathers_Name Shams-ul-Islam\n",
      "Age 30\n",
      "Education BE,Cache 2,AI, KARAS g12C\n",
      "0 Pakistan\n"
     ]
    }
   ],
   "source": [
    "for k,v in data.items():\n",
    "    print(k,v) "
   ]
  },
  {
   "cell_type": "code",
   "execution_count": 113,
   "id": "3e1d0bb0",
   "metadata": {},
   "outputs": [
    {
     "name": "stdout",
     "output_type": "stream",
     "text": [
      "Name\n",
      "Fathers_Name\n",
      "Age\n",
      "Education\n",
      "0\n"
     ]
    }
   ],
   "source": [
    "for i in data.keys():\n",
    "    print(i)"
   ]
  },
  {
   "cell_type": "code",
   "execution_count": 114,
   "id": "fc7b8168",
   "metadata": {},
   "outputs": [
    {
     "name": "stdout",
     "output_type": "stream",
     "text": [
      "Sheza Shams\n",
      "Shams-ul-Islam\n",
      "30\n",
      "BE,Cache 2,AI, KARAS g12C\n",
      "Pakistan\n"
     ]
    }
   ],
   "source": [
    "for i in data.values():\n",
    "    print(i)"
   ]
  },
  {
   "cell_type": "code",
   "execution_count": 115,
   "id": "8d01316d",
   "metadata": {},
   "outputs": [
    {
     "name": "stdout",
     "output_type": "stream",
     "text": [
      "P\n",
      "a\n",
      "k\n",
      "i\n",
      "s\n",
      "t\n",
      "a\n",
      "n\n",
      " \n",
      "z\n",
      "i\n",
      "n\n",
      "d\n",
      "a\n",
      "b\n",
      "a\n",
      "d\n"
     ]
    }
   ],
   "source": [
    "\"Pakistan zindabad\"\n",
    "for i in \"Pakistan zindabad\":\n",
    "    print(i)"
   ]
  },
  {
   "cell_type": "code",
   "execution_count": 116,
   "id": "357abf4b",
   "metadata": {},
   "outputs": [
    {
     "data": {
      "text/plain": [
       "['P',\n",
       " 'a',\n",
       " 'k',\n",
       " 'i',\n",
       " 's',\n",
       " 't',\n",
       " 'a',\n",
       " 'n',\n",
       " ' ',\n",
       " 'z',\n",
       " 'i',\n",
       " 'n',\n",
       " 'd',\n",
       " 'a',\n",
       " 'b',\n",
       " 'a',\n",
       " 'd']"
      ]
     },
     "execution_count": 116,
     "metadata": {},
     "output_type": "execute_result"
    }
   ],
   "source": [
    "list(\"Pakistan zindabad\")"
   ]
  },
  {
   "cell_type": "code",
   "execution_count": 118,
   "id": "8a4b4fca",
   "metadata": {},
   "outputs": [
    {
     "data": {
      "text/plain": [
       "{'Fname': 'Shams-ul-Islam', 'Age': 31}"
      ]
     },
     "execution_count": 118,
     "metadata": {},
     "output_type": "execute_result"
    }
   ],
   "source": [
    "data = {\n",
    "    'Name' : 'Sheza Shams',\n",
    "    'Fname' : 'Shams-ul-Islam',\n",
    "    'Age' : 31\n",
    "    \n",
    "}\n",
    "del data['Name'] # non return function\n",
    "data"
   ]
  },
  {
   "cell_type": "markdown",
   "id": "ea5c0843",
   "metadata": {},
   "source": [
    "# RETURN NON RETURN FUNCTION"
   ]
  },
  {
   "cell_type": "code",
   "execution_count": 119,
   "id": "023a1cef",
   "metadata": {},
   "outputs": [
    {
     "name": "stdout",
     "output_type": "stream",
     "text": [
      "Pakistan\n",
      "None\n"
     ]
    }
   ],
   "source": [
    "a = print(\"Pakistan\") # unable to store value in variable that is non return function\n",
    "print(a)"
   ]
  },
  {
   "cell_type": "code",
   "execution_count": 120,
   "id": "4cda7fe1",
   "metadata": {},
   "outputs": [
    {
     "name": "stdout",
     "output_type": "stream",
     "text": [
      "8\n"
     ]
    }
   ],
   "source": [
    "a = len(\"Pakistan\")\n",
    "print(a) # length to store in 'a' variable that is retuen function"
   ]
  },
  {
   "cell_type": "markdown",
   "id": "6eb89a27",
   "metadata": {},
   "source": [
    "# pop delete key:value pair and it can return"
   ]
  },
  {
   "cell_type": "code",
   "execution_count": 121,
   "id": "2a705fb7",
   "metadata": {},
   "outputs": [
    {
     "data": {
      "text/plain": [
       "{'Fname': 'Shams-ul-Islam', 'Age': 31}"
      ]
     },
     "execution_count": 121,
     "metadata": {},
     "output_type": "execute_result"
    }
   ],
   "source": [
    "data = {\n",
    "    'Name' : 'Sheza Shams',\n",
    "    'Fname' : 'Shams-ul-Islam',\n",
    "    'Age' : 31\n",
    "    \n",
    "}\n",
    "data.pop('Name')\n",
    "data"
   ]
  },
  {
   "cell_type": "code",
   "execution_count": 123,
   "id": "9d83031e",
   "metadata": {},
   "outputs": [
    {
     "name": "stdout",
     "output_type": "stream",
     "text": [
      "{'Fname': 'Shams-ul-Islam', 'Age': 31}\n",
      "Deleted Sheza Shams\n"
     ]
    }
   ],
   "source": [
    "data = {\n",
    "    'Name' : 'Sheza Shams',\n",
    "    'Fname' : 'Shams-ul-Islam',\n",
    "    'Age' : 31\n",
    "    \n",
    "}\n",
    "a = data.pop('Name')\n",
    "print(data)\n",
    "print(\"Deleted\",a)"
   ]
  },
  {
   "cell_type": "code",
   "execution_count": 131,
   "id": "bab7d547",
   "metadata": {},
   "outputs": [
    {
     "name": "stdout",
     "output_type": "stream",
     "text": [
      "['Sheza Shams', 'Shams-ul-Islam']\n",
      "{'Age': 31}\n"
     ]
    }
   ],
   "source": [
    "completed_task = []\n",
    "\n",
    "data = {\n",
    "    'Name' : 'Sheza Shams',\n",
    "    'Fname' : 'Shams-ul-Islam',\n",
    "    'Age' : 31\n",
    "}\n",
    "\n",
    "a = data.pop('Name')\n",
    "completed_task.append(a)\n",
    "\n",
    "b = data.pop('Fname')\n",
    "completed_task.append(b)\n",
    "\n",
    "print(completed_task)\n",
    "print(data)"
   ]
  },
  {
   "cell_type": "code",
   "execution_count": 135,
   "id": "926b3373",
   "metadata": {},
   "outputs": [
    {
     "name": "stdout",
     "output_type": "stream",
     "text": [
      "{'Name': 'Sheza Shams', 'Fname': 'Shams-ul-Islam', 'Age': 31}\n",
      "{'Name': 'Sheza Shams', 'Fname': 'Shams-ul-Islam'}\n"
     ]
    }
   ],
   "source": [
    "\n",
    "\n",
    "data = {\n",
    "    'Name' : 'Sheza Shams',\n",
    "    'Fname' : 'Shams-ul-Islam',\n",
    "    'Age' : 31\n",
    "}\n",
    "\n",
    "print(data)\n",
    "a= data.popitem() # return value only delete last key:value pair\n",
    "print(data)"
   ]
  },
  {
   "cell_type": "code",
   "execution_count": null,
   "id": "be5ffc17",
   "metadata": {},
   "outputs": [],
   "source": []
  }
 ],
 "metadata": {
  "kernelspec": {
   "display_name": "Python 3 (ipykernel)",
   "language": "python",
   "name": "python3"
  },
  "language_info": {
   "codemirror_mode": {
    "name": "ipython",
    "version": 3
   },
   "file_extension": ".py",
   "mimetype": "text/x-python",
   "name": "python",
   "nbconvert_exporter": "python",
   "pygments_lexer": "ipython3",
   "version": "3.9.13"
  }
 },
 "nbformat": 4,
 "nbformat_minor": 5
}
