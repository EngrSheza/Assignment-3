{
 "cells": [
  {
   "cell_type": "code",
   "execution_count": 1,
   "id": "a8e08bcf",
   "metadata": {},
   "outputs": [
    {
     "data": {
      "text/plain": [
       "True"
      ]
     },
     "execution_count": 1,
     "metadata": {},
     "output_type": "execute_result"
    }
   ],
   "source": [
    "a=5\n",
    "b=9\n",
    "a<b"
   ]
  },
  {
   "cell_type": "markdown",
   "id": "27629641",
   "metadata": {},
   "source": [
    "# now use Boolean logic with IF block"
   ]
  },
  {
   "cell_type": "code",
   "execution_count": 3,
   "id": "209ee2f5",
   "metadata": {},
   "outputs": [
    {
     "name": "stdout",
     "output_type": "stream",
     "text": [
      "Pakistan\n"
     ]
    }
   ],
   "source": [
    "if True:\n",
    "    print(\"Pakistan\")\n",
    "else:\n",
    "    print(\"USA\")\n"
   ]
  },
  {
   "cell_type": "code",
   "execution_count": 4,
   "id": "b2f0460e",
   "metadata": {},
   "outputs": [
    {
     "name": "stdout",
     "output_type": "stream",
     "text": [
      "USA\n"
     ]
    }
   ],
   "source": [
    "if False:\n",
    "    print(\"Pakistan\")\n",
    "else:\n",
    "    print(\"USA\")"
   ]
  },
  {
   "cell_type": "code",
   "execution_count": 9,
   "id": "59158fa1",
   "metadata": {},
   "outputs": [
    {
     "name": "stdout",
     "output_type": "stream",
     "text": [
      "A=5 is lessthan or equal B=9\n"
     ]
    }
   ],
   "source": [
    "a = 5\n",
    "b= 9\n",
    "\n",
    "if a>b:\n",
    "    print(f\"A={a} is greater than B={b}\")\n",
    "    \n",
    "else:\n",
    "    print(f\"A={a} is lessthan or equal B={b}\")\n"
   ]
  },
  {
   "cell_type": "code",
   "execution_count": 8,
   "id": "02d8e96e",
   "metadata": {},
   "outputs": [
    {
     "name": "stdout",
     "output_type": "stream",
     "text": [
      "A=20 is greater than B=9\n"
     ]
    }
   ],
   "source": [
    "a = 20\n",
    "b= 9\n",
    "\n",
    "if a>b:\n",
    "    print(f\"A={a} is greater than B={b}\")\n",
    "    \n",
    "else:\n",
    "    print(f\"A={a} is lessthan or equal B={b}\")"
   ]
  },
  {
   "cell_type": "markdown",
   "id": "6e3b39ef",
   "metadata": {},
   "source": [
    "# if else elif"
   ]
  },
  {
   "cell_type": "code",
   "execution_count": 15,
   "id": "01e71a25",
   "metadata": {},
   "outputs": [
    {
     "name": "stdout",
     "output_type": "stream",
     "text": [
      "A value is 5 is lessthan B value is 10\n"
     ]
    }
   ],
   "source": [
    "a = 5\n",
    "b = 10\n",
    "\n",
    "if a>b:\n",
    "    print(f\"A value is {a} is greater than B value is {b}\")\n",
    "    \n",
    "elif a<b:\n",
    "    print(f\"A value is {a} is lessthan B value is {b}\")\n",
    "    \n",
    "else:\n",
    "    print(f\"A value is {a} is eual to B value is {b}\")"
   ]
  },
  {
   "cell_type": "code",
   "execution_count": 16,
   "id": "43deec78",
   "metadata": {},
   "outputs": [
    {
     "name": "stdout",
     "output_type": "stream",
     "text": [
      "A value is 90 is greater than B value is 10\n"
     ]
    }
   ],
   "source": [
    "a = 90\n",
    "b = 10\n",
    "\n",
    "if a>b:\n",
    "    print(f\"A value is {a} is greater than B value is {b}\")\n",
    "    \n",
    "elif a<b:\n",
    "    print(f\"A value is {a} is lessthan B value is {b}\")\n",
    "    \n",
    "else:\n",
    "    print(f\"A value is {a} is eual to B value is {b}\")"
   ]
  },
  {
   "cell_type": "code",
   "execution_count": 17,
   "id": "0f072f96",
   "metadata": {},
   "outputs": [
    {
     "name": "stdout",
     "output_type": "stream",
     "text": [
      "A value is 10 is eual to B value is 10\n"
     ]
    }
   ],
   "source": [
    "a = 10\n",
    "b = 10\n",
    "\n",
    "if a>b:\n",
    "    print(f\"A value is {a} is greater than B value is {b}\")\n",
    "    \n",
    "elif a<b:\n",
    "    print(f\"A value is {a} is lessthan B value is {b}\")\n",
    "    \n",
    "else:\n",
    "    print(f\"A value is {a} is eual to B value is {b}\")"
   ]
  },
  {
   "cell_type": "markdown",
   "id": "035ab56a",
   "metadata": {},
   "source": [
    "# GRADING EXAMPLE"
   ]
  },
  {
   "cell_type": "code",
   "execution_count": 20,
   "id": "41cac4ed",
   "metadata": {},
   "outputs": [
    {
     "name": "stdout",
     "output_type": "stream",
     "text": [
      "A\n"
     ]
    }
   ],
   "source": [
    "per = 76\n",
    "\n",
    "if per >= 80:\n",
    "    print(\"A+\")\n",
    "elif per >= 70:\n",
    "    print(\"A\")\n",
    "elif per >=60:\n",
    "    print(\"B\")\n",
    "elif per >=50:\n",
    "    print(\"Pass\")\n",
    "else:\n",
    "    print(\"Fail\")"
   ]
  },
  {
   "cell_type": "code",
   "execution_count": 21,
   "id": "21ce86b7",
   "metadata": {},
   "outputs": [
    {
     "name": "stdout",
     "output_type": "stream",
     "text": [
      "Fail\n"
     ]
    }
   ],
   "source": [
    "per = 44\n",
    "\n",
    "if per >= 80:\n",
    "    print(\"A+\")\n",
    "elif per >= 70:\n",
    "    print(\"A\")\n",
    "elif per >=60:\n",
    "    print(\"B\")\n",
    "elif per >=50:\n",
    "    print(\"Pass\")\n",
    "else:\n",
    "    print(\"Fail\")"
   ]
  },
  {
   "cell_type": "code",
   "execution_count": null,
   "id": "cfece1fc",
   "metadata": {},
   "outputs": [],
   "source": [
    "## Logic error"
   ]
  },
  {
   "cell_type": "code",
   "execution_count": 2,
   "id": "3c5ce9ba",
   "metadata": {},
   "outputs": [
    {
     "name": "stdout",
     "output_type": "stream",
     "text": [
      "Fail\n"
     ]
    }
   ],
   "source": [
    "a = 80\n",
    "\n",
    "if a >= 0:\n",
    "    print(\"Fail\")\n",
    "elif a >= 50:\n",
    "    print(\"Pass\")\n",
    "elif a >=60:\n",
    "    print(\"B\")\n",
    "elif a >=70:\n",
    "    print(\"A\")\n",
    "elif a>= 80:\n",
    "    print(\"A+\")"
   ]
  },
  {
   "cell_type": "code",
   "execution_count": null,
   "id": "1e87bb12",
   "metadata": {},
   "outputs": [],
   "source": [
    "##Relogic the code"
   ]
  },
  {
   "cell_type": "code",
   "execution_count": 3,
   "id": "613aea3a",
   "metadata": {},
   "outputs": [
    {
     "name": "stdout",
     "output_type": "stream",
     "text": [
      "A+\n"
     ]
    }
   ],
   "source": [
    "a = 80\n",
    "\n",
    "if a >= 0 and a<50:\n",
    "    print(\"Fail\")\n",
    "elif a >= 50 and a<60:\n",
    "    print(\"Pass\")\n",
    "elif a >=60 and a<70:\n",
    "    print(\"B\")\n",
    "elif a >=70 and a<80:\n",
    "    print(\"A\")\n",
    "elif a>= 80 and a<=100:\n",
    "    print(\"A+\")"
   ]
  },
  {
   "cell_type": "code",
   "execution_count": 4,
   "id": "a71cc92f",
   "metadata": {},
   "outputs": [
    {
     "name": "stdout",
     "output_type": "stream",
     "text": [
      "True\n",
      "False\n",
      "False\n",
      "False\n"
     ]
    }
   ],
   "source": [
    "print(True and True) # only and will be true if all is true otherwise false in all situations\n",
    "print(True and False)\n",
    "print(False and True)\n",
    "print(False and False)"
   ]
  },
  {
   "cell_type": "code",
   "execution_count": null,
   "id": "b8468709",
   "metadata": {},
   "outputs": [],
   "source": [
    "username = input(\"Username: Username|email|phone\")\n",
    "password = input(\"Password!\")\n",
    "\n",
    "# user = Sheza, sheza912@yahoo.com, 03343527933, password = sheza123"
   ]
  },
  {
   "cell_type": "code",
   "execution_count": 8,
   "id": "84ca67f1",
   "metadata": {},
   "outputs": [
    {
     "name": "stdout",
     "output_type": "stream",
     "text": [
      "Username: Username|email|phoneSheza\n",
      "Password!sheza123\n",
      "Welcome Sheza to portal\n"
     ]
    }
   ],
   "source": [
    "username = input(\"Username: Username|email|phone\")\n",
    "password = input(\"Password!\")\n",
    "\n",
    "if (username == \"Sheza\" or username == \"sheza912@yahoo.com\" or username ==\"03343527933\") and password ==\"sheza123\" :\n",
    "    print(f\"Welcome {username} to portal\")\n",
    "else:\n",
    "    print(\"Invalid User\")"
   ]
  },
  {
   "cell_type": "code",
   "execution_count": 9,
   "id": "7c120362",
   "metadata": {},
   "outputs": [
    {
     "name": "stdout",
     "output_type": "stream",
     "text": [
      "Username: Username|email|phonesheza912@yahoo.com\n",
      "Password!sheza123\n",
      "Welcome sheza912@yahoo.com to portal\n"
     ]
    }
   ],
   "source": [
    "username = input(\"Username: Username|email|phone\")\n",
    "password = input(\"Password!\")\n",
    "\n",
    "if (username == \"Sheza\" or username == \"sheza912@yahoo.com\" or username ==\"03343527933\") and password ==\"sheza123\" :\n",
    "    print(f\"Welcome {username} to portal\")\n",
    "else:\n",
    "    print(\"Invalid User\")"
   ]
  },
  {
   "cell_type": "code",
   "execution_count": 10,
   "id": "6932af20",
   "metadata": {},
   "outputs": [
    {
     "name": "stdout",
     "output_type": "stream",
     "text": [
      "Username: Username|email|phone03343527933\n",
      "Password!sheza123\n",
      "Welcome 03343527933 to portal\n"
     ]
    }
   ],
   "source": [
    "username = input(\"Username: Username|email|phone\")\n",
    "password = input(\"Password!\")\n",
    "\n",
    "if (username == \"Sheza\" or username == \"sheza912@yahoo.com\" or username ==\"03343527933\") and password ==\"sheza123\" :\n",
    "    print(f\"Welcome {username} to portal\")\n",
    "else:\n",
    "    print(\"Invalid User\")"
   ]
  },
  {
   "cell_type": "code",
   "execution_count": 11,
   "id": "f5ab85de",
   "metadata": {},
   "outputs": [
    {
     "name": "stdout",
     "output_type": "stream",
     "text": [
      "Username: Username|email|phoneSheza\n",
      "Password!khghgh\n",
      "Invalid User\n"
     ]
    }
   ],
   "source": [
    "username = input(\"Username: Username|email|phone\")\n",
    "password = input(\"Password!\")\n",
    "\n",
    "if (username == \"Sheza\" or username == \"sheza912@yahoo.com\" or username ==\"03343527933\") and password ==\"sheza123\" :\n",
    "    print(f\"Welcome {username} to portal\")\n",
    "else:\n",
    "    print(\"Invalid User\")"
   ]
  },
  {
   "cell_type": "code",
   "execution_count": 29,
   "id": "3acf531c",
   "metadata": {},
   "outputs": [
    {
     "name": "stdout",
     "output_type": "stream",
     "text": [
      "NationalityPakistani\n",
      "CityKarachi\n",
      "Age : Your age31\n",
      "University NED\n",
      "Invalid User\n"
     ]
    }
   ],
   "source": [
    "Nationality = input(\"Nationality\") #must\n",
    "City = input(\"City\")\n",
    "Age = int(input(\"Age : Your age\")) # must be >=18\n",
    "University = input(\"University\") #must\n",
    "\n",
    "if Nationality == (\"Pakistani\") and Age >= 18 and University == \"NED\" :\n",
    "        print(\"Welcome Local Students\")\n",
    "elif Nationality != (\"Pakistani\") and Age >=18 and University ==\"NED\" :\n",
    "                   print(\"Welcome Overseas Students\")\n",
    "else :\n",
    "    print(\"Invalid User\")"
   ]
  },
  {
   "cell_type": "code",
   "execution_count": null,
   "id": "1f5bdbe0",
   "metadata": {},
   "outputs": [],
   "source": [
    "Nationality = input(\"Nationality: \") #must\n",
    "City = input(\"City: \")\n",
    "Age = int(input(\"Age: \")) # must be >=18\n",
    "University = input(\"University: \") #must\n",
    "\n",
    "if Nationality == (\"Pakistani\") and Age >= 18 and University == \"NED\" :\n",
    "        print(\"Welcome Local Students\")\n",
    "elif Nationality != (\"Pakistani\") and Age >=18 and University ==\"NED\" :\n",
    "                   print(\"Welcome Overseas Students\")\n",
    "else :\n",
    "    print(\"Invalid User\")"
   ]
  },
  {
   "cell_type": "code",
   "execution_count": 1,
   "id": "7a5e9ae2",
   "metadata": {},
   "outputs": [
    {
     "name": "stdout",
     "output_type": "stream",
     "text": [
      "Nationality: Pakistani\n",
      "City: Karachi\n",
      "Age: 31\n",
      "University: NED\n",
      "Welcome Local Students\n"
     ]
    }
   ],
   "source": [
    "Nationality = input(\"Nationality: \") #must\n",
    "City = input(\"City: \")\n",
    "Age = int(input(\"Age: \")) # must be >=18\n",
    "University = input(\"University: \") #must\n",
    "\n",
    "if Nationality == (\"Pakistani\") and Age >= 18 and University == \"NED\" :\n",
    "        print(\"Welcome Local Students\")\n",
    "elif Nationality != (\"Pakistani\") and Age >=18 and University ==\"NED\" :\n",
    "                   print(\"Welcome Overseas Students\")\n",
    "else :\n",
    "    print(\"Invalid User\")"
   ]
  },
  {
   "cell_type": "code",
   "execution_count": 2,
   "id": "3f6aedbc",
   "metadata": {},
   "outputs": [
    {
     "name": "stdout",
     "output_type": "stream",
     "text": [
      "Nationality: UAE\n",
      "City: Dubai\n",
      "Age: 31\n",
      "University: NED\n",
      "Welcome Overseas Students\n"
     ]
    }
   ],
   "source": [
    "Nationality = input(\"Nationality: \") #must\n",
    "City = input(\"City: \")\n",
    "Age = int(input(\"Age: \")) # must be >=18\n",
    "University = input(\"University: \") #must\n",
    "\n",
    "if Nationality == (\"Pakistani\") and Age >= 18 and University == \"NED\" :\n",
    "        print(\"Welcome Local Students\")\n",
    "elif Nationality != (\"Pakistani\") and Age >=18 and University ==\"NED\" :\n",
    "                   print(\"Welcome Overseas Students\")\n",
    "else :\n",
    "    print(\"Invalid User\")"
   ]
  },
  {
   "cell_type": "code",
   "execution_count": 3,
   "id": "b25821fe",
   "metadata": {},
   "outputs": [
    {
     "name": "stdout",
     "output_type": "stream",
     "text": [
      "Nationality: Pakistani\n",
      "City: Karachi\n",
      "Age: 17\n",
      "University: NED\n",
      "Invalid User\n"
     ]
    }
   ],
   "source": [
    "Nationality = input(\"Nationality: \") #must\n",
    "City = input(\"City: \")\n",
    "Age = int(input(\"Age: \")) # must be >=18\n",
    "University = input(\"University: \") #must\n",
    "\n",
    "if Nationality == (\"Pakistani\") and Age >= 18 and University == \"NED\" :\n",
    "        print(\"Welcome Local Students\")\n",
    "elif Nationality != (\"Pakistani\") and Age >=18 and University ==\"NED\" :\n",
    "                   print(\"Welcome Overseas Students\")\n",
    "else :\n",
    "    print(\"Invalid User\")"
   ]
  },
  {
   "cell_type": "markdown",
   "id": "f811ac23",
   "metadata": {},
   "source": [
    "# if else comprehensive style"
   ]
  },
  {
   "cell_type": "code",
   "execution_count": 6,
   "id": "0be90259",
   "metadata": {},
   "outputs": [
    {
     "name": "stdout",
     "output_type": "stream",
     "text": [
      "A is smallerthan and equal to B\n"
     ]
    }
   ],
   "source": [
    "a = 6\n",
    "b = 10\n",
    "\n",
    "if a>b:\n",
    "    print(\"A is greaterthan to B\")\n",
    "else:\n",
    "    print(\"A is smallerthan and equal to B\")\n",
    "    "
   ]
  },
  {
   "cell_type": "code",
   "execution_count": 8,
   "id": "7b1113d1",
   "metadata": {},
   "outputs": [
    {
     "name": "stdout",
     "output_type": "stream",
     "text": [
      "A is smallerthan and equal to B\n"
     ]
    }
   ],
   "source": [
    "print(\"A is greaterthan B\") if a>b else print(\"A is smallerthan and equal to B\")"
   ]
  },
  {
   "cell_type": "code",
   "execution_count": null,
   "id": "d0fb2124",
   "metadata": {},
   "outputs": [],
   "source": []
  }
 ],
 "metadata": {
  "kernelspec": {
   "display_name": "Python 3 (ipykernel)",
   "language": "python",
   "name": "python3"
  },
  "language_info": {
   "codemirror_mode": {
    "name": "ipython",
    "version": 3
   },
   "file_extension": ".py",
   "mimetype": "text/x-python",
   "name": "python",
   "nbconvert_exporter": "python",
   "pygments_lexer": "ipython3",
   "version": "3.9.13"
  }
 },
 "nbformat": 4,
 "nbformat_minor": 5
}
